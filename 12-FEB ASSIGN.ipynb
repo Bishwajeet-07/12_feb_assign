{
 "cells": [
  {
   "cell_type": "code",
   "execution_count": null,
   "id": "6175428c-746b-45de-b6ab-b92531484818",
   "metadata": {},
   "outputs": [],
   "source": [
    "# Q1. What is an Exeption in python? Write the difference between Exception and Syntax error.\n",
    "\n",
    "'''\n",
    "    In Python, an exception is an event that occurs during the execution of a program that disrupts the normal flow of the program's instructions.\n",
    "    When an exception occurs, the program immediately stops executing and raises an exception object,\n",
    "    which contains information about the error.\n",
    "'''\n",
    "'''\n",
    "    Both Exceptions and Syntax errors are types of errors that can occur in Python programming. \n",
    "    However, they are different in their causes and how they are handled.\n",
    "\n",
    "    1- Syntax errors are caused by incorrect syntax in the code, while exceptions are caused by unexpected events during the program's execution.\n",
    "    2- Syntax errors prevent the code from running at all, while exceptions can be handled by the program to prevent the program from crashing.\n",
    "    3- Syntax errors are usually detected by the Python interpreter before the code is executed, while exceptions are detected during runtime.\n",
    "    \n",
    "'''"
   ]
  },
  {
   "cell_type": "code",
   "execution_count": null,
   "id": "4508c29b-5ff2-4868-93f2-04a8ec771b3b",
   "metadata": {},
   "outputs": [],
   "source": [
    " # Q2. What happens when an exception is not handled? Explain with an example.\n",
    "    \n",
    "    '''\n",
    "    When an exception is not handled in Python,\n",
    "    it will propagate up the call stack until it is caught by an exception handler or it reaches the top-level of the program.\n",
    "    If the exception is not caught and handled, the program will terminate and an error message will be displayed,\n",
    "    indicating the type of exception that occurred and where it happened in the code.\n",
    "    \n",
    "    '''\n",
    "    # examp.\n",
    "    \n",
    "    def foo():\n",
    "        print(1 / 0)\n",
    "\n",
    "    def bar():\n",
    "        foo()\n",
    "\n",
    "bar()\n",
    "\n",
    "#error\n",
    "Traceback (most recent call last):\n",
    "  File \"<stdin>\", line 4, in <module>\n",
    "  File \"<stdin>\", line 2, in bar\n",
    "  File \"<stdin>\", line 1, in foo\n",
    "ZeroDivisionError: division by zero\n",
    "\n",
    "    "
   ]
  },
  {
   "cell_type": "code",
   "execution_count": null,
   "id": "b4f86cc3-7f42-4053-8a52-4dd182f7a54d",
   "metadata": {},
   "outputs": [],
   "source": [
    " # Q3. Which python satements are used to catch and handle exceptions? Explain with an example.\n",
    "    '''\n",
    "    In Python, the `try` and `except` statements are used to catch and handle exceptions. The basic syntax of a try-except\n",
    "    \n",
    "    try:\n",
    "        Code that may raise an exception\n",
    "    except ExceptionType:\n",
    "        Code to handle the exception\n",
    "    \n",
    "    '''\n",
    "    "
   ]
  },
  {
   "cell_type": "code",
   "execution_count": 4,
   "id": "45a32088-a59d-4ef9-a6fa-88c1fb59019b",
   "metadata": {},
   "outputs": [
    {
     "name": "stdin",
     "output_type": "stream",
     "text": [
      "Enter a number:  10\n",
      "Enter another number:  0\n"
     ]
    },
    {
     "name": "stdout",
     "output_type": "stream",
     "text": [
      "Error: division by zero\n"
     ]
    }
   ],
   "source": [
    " # Q4. Explain with an example:\n",
    "    # A - try and else\n",
    "    \n",
    "try:\n",
    "    # code that may raise an exception\n",
    "    x = int(input(\"Enter a number: \"))\n",
    "    y = int(input(\"Enter another number: \"))\n",
    "    result = x / y\n",
    "except ZeroDivisionError:\n",
    "    print(\"Error: division by zero\")\n",
    "else:\n",
    "    print(\"The result is:\", result)"
   ]
  },
  {
   "cell_type": "code",
   "execution_count": null,
   "id": "b41df57a-db1c-4ac7-8d35-d21ceb1760ee",
   "metadata": {},
   "outputs": [],
   "source": [
    " # Q4. Explain with an example:\n",
    "    # b - finally\n",
    "    \n",
    "    '''\n",
    "try:\n",
    "    # Code that may raise an exception\n",
    "except ExceptionType:\n",
    "    # Code to handle the exception\n",
    "finally:\n",
    "    # Code to execute regardless of whether an exception was raised or not\n",
    " '''\n",
    "try:\n",
    "    f = open('file.txt', 'r')\n",
    "    # code to read from the file\n",
    "finally:\n",
    "    f.close()\n",
    "    "
   ]
  },
  {
   "cell_type": "code",
   "execution_count": 5,
   "id": "59291bf1-0e40-4f4f-beb9-d3ba9c26d8bb",
   "metadata": {},
   "outputs": [
    {
     "name": "stdout",
     "output_type": "stream",
     "text": [
      "Cannot divide by zero\n"
     ]
    }
   ],
   "source": [
    " # Q4. Explain with an example:\n",
    "    # b - raise\n",
    "    \n",
    "def divide(x, y):\n",
    "    if y == 0:\n",
    "        raise ZeroDivisionError(\"Cannot divide by zero\")\n",
    "    return x / y\n",
    "try:\n",
    "    result = divide(10, 0)\n",
    "except ZeroDivisionError as e:\n",
    "    print(e)\n",
    "    "
   ]
  },
  {
   "cell_type": "code",
   "execution_count": 7,
   "id": "855be6f7-aad5-46f1-b1d6-903ee41d82de",
   "metadata": {},
   "outputs": [
    {
     "name": "stdout",
     "output_type": "stream",
     "text": [
      "Cannot divide by zero\n"
     ]
    }
   ],
   "source": [
    "# Q5. What are Custom Exceptons in python? Why do we need Custom Exception with an example.\n",
    "\n",
    "'''\n",
    "Custom exceptions in Python are user-defined exceptions that allow you to create your own exception classes with custom error messages and behavior.\n",
    "You might want to create a custom exception class if you have specific error conditions in your code that aren't covered by the built-in exception classes,\n",
    "or if you want to provide more detailed error messages to the user.\n",
    "\n",
    "'''\n",
    "def divide(x, y):\n",
    "    if y == 0:\n",
    "        raise Exception(\"Cannot divide by zero\")\n",
    "    return x / y\n",
    "\n",
    "try:\n",
    "    result = divide(10, 0)\n",
    "except Exception as e:\n",
    "    print(e)\n",
    "else:\n",
    "    print(\"Result:\", result)\n",
    "\n"
   ]
  },
  {
   "cell_type": "code",
   "execution_count": 8,
   "id": "1501aff2-f8bd-431b-a330-5af579df39a4",
   "metadata": {},
   "outputs": [
    {
     "ename": "IndentationError",
     "evalue": "expected an indented block after 'with' statement on line 7 (3324734631.py, line 9)",
     "output_type": "error",
     "traceback": [
      "\u001b[0;36m  Cell \u001b[0;32mIn[8], line 9\u001b[0;36m\u001b[0m\n\u001b[0;31m    except FileNotFoundError:\u001b[0m\n\u001b[0m    ^\u001b[0m\n\u001b[0;31mIndentationError\u001b[0m\u001b[0;31m:\u001b[0m expected an indented block after 'with' statement on line 7\n"
     ]
    }
   ],
   "source": [
    "'''\n",
    "Custom exceptions in Python are useful when you need to raise and catch exceptions specific to your application or domain.\n",
    "They allow you to define your own exception hierarchy and provide more context-specific error messages to users or developers.\n",
    "'''\n",
    "def process_file(filename):\n",
    "    try:\n",
    "        with open(filename, 'r') as f:\n",
    "            # process the file data here\n",
    "    except FileNotFoundError:\n",
    "        raise FileProcessingError(\"File not found: {}\".format(filename))\n",
    "    except IOError:\n",
    "        raise FileProcessingError(\"IO error while reading file: {}\".format(filename))\n",
    "\n"
   ]
  },
  {
   "cell_type": "code",
   "execution_count": 9,
   "id": "1a2fd24a-acf7-41a2-a109-fce9c8f49882",
   "metadata": {},
   "outputs": [
    {
     "name": "stdout",
     "output_type": "stream",
     "text": [
      "5.0\n",
      "Number cannot be negative\n"
     ]
    }
   ],
   "source": [
    "# Q6. Create a custom exception class.use this class to handle an exception.\n",
    "\n",
    "class NegativeNumberError(Exception):\n",
    "    \"\"\"Custom exception class for handling negative numbers\"\"\"\n",
    "\n",
    "    def __init__(self, message=\"Number cannot be negative\"):\n",
    "        self.message = message\n",
    "        super().__init__(self.message)\n",
    "\n",
    "def square_root(num):\n",
    "    \"\"\"Calculate the square root of a positive number\"\"\"\n",
    "    if num < 0:\n",
    "        raise NegativeNumberError\n",
    "    return num ** 0.5\n",
    "\n",
    "try:\n",
    "    print(square_root(25))  # Output: 5.0\n",
    "    print(square_root(-25))  # Raises NegativeNumberError\n",
    "except NegativeNumberError as e:\n",
    "    print(e.message)  # Output: Number cannot be negative\n"
   ]
  },
  {
   "cell_type": "code",
   "execution_count": null,
   "id": "76cbcc68-1dbe-48aa-9949-744edbecf813",
   "metadata": {},
   "outputs": [],
   "source": []
  }
 ],
 "metadata": {
  "kernelspec": {
   "display_name": "Python 3 (ipykernel)",
   "language": "python",
   "name": "python3"
  },
  "language_info": {
   "codemirror_mode": {
    "name": "ipython",
    "version": 3
   },
   "file_extension": ".py",
   "mimetype": "text/x-python",
   "name": "python",
   "nbconvert_exporter": "python",
   "pygments_lexer": "ipython3",
   "version": "3.10.8"
  }
 },
 "nbformat": 4,
 "nbformat_minor": 5
}
